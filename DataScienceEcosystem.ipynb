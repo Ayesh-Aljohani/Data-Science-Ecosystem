{
 "cells": [
  {
   "cell_type": "markdown",
   "id": "fe929431",
   "metadata": {},
   "source": [
    "# Data Science Tools and Ecosystem"
   ]
  },
  {
   "cell_type": "markdown",
   "id": "2db76382",
   "metadata": {},
   "source": [
    "## Introduction\n",
    "In this notebook, Data Science Tools and Ecosystem are summarized."
   ]
  },
  {
   "cell_type": "markdown",
   "id": "9af54d11",
   "metadata": {},
   "source": [
    "## Data Science Languages\n",
    "\n",
    "In the field of data science, various programming languages are commonly used. Some of the prominent data science languages include:\n",
    "\n",
    "1. Python\n",
    "2. R\n",
    "3. Julia\n",
    "4. SQL\n",
    "5. Scala\n",
    "6. MATLAB"
   ]
  },
  {
   "cell_type": "markdown",
   "id": "5571203e",
   "metadata": {},
   "source": [
    "## Data Science Libraries\n",
    "\n",
    "Data science relies on various libraries and frameworks to perform tasks efficiently. Here are some essential data science libraries:\n",
    "\n",
    "- **NumPy:** Fundamental package for scientific computing with Python.\n",
    "- **Pandas:** Data manipulation and analysis library.\n",
    "- **Matplotlib:** Comprehensive library for creating static, animated, and interactive visualizations in Python.\n",
    "- **Seaborn:** Statistical data visualization based on Matplotlib.\n",
    "- **Scikit-learn:** Machine learning library for classical machine learning algorithms.\n",
    "- **TensorFlow:** Open-source machine learning framework developed by Google.\n",
    "- **PyTorch:** Open-source machine learning library developed by Facebook.\n",
    "- **NLTK (Natural Language Toolkit):** Library for working with human language data.\n",
    "- **Statsmodels:** Library for estimating and testing statistical models."
   ]
  },
  {
   "cell_type": "markdown",
   "id": "770b0fe3",
   "metadata": {},
   "source": [
    "## Data Science Tools\n",
    "\n",
    "| Tool           | Description                                       |\n",
    "|----------------|---------------------------------------------------|\n",
    "| Jupyter Notebook| Interactive computing and data analysis tool.     |\n",
    "| RStudio        | Integrated development environment for R.         |\n",
    "| VS Code        | Lightweight code editor with excellent extensions.|\n",
    "| Tableau        | Data visualization and business intelligence tool.|\n",
    "| SQL Server     | Relational database management system.            |\n",
    "| Git            | Version control system for tracking changes.      |\n",
    "| Docker         | Platform for developing, shipping, and running applications in containers. |\n",
    "| Apache Spark   | Distributed computing system for big data processing. |\n",
    "| Excel          | Spreadsheet software for data analysis and visualization. |\n"
   ]
  },
  {
   "cell_type": "markdown",
   "id": "26c60e75",
   "metadata": {},
   "source": [
    "# Arithmetic Expression Examples\n",
    "\n",
    "#In data science and programming, arithmetic expressions are fundamental for performing mathematical operations. Below are some examples of basic arithmetic expressions:\n",
    "#Addition(+)\n",
    "result = 10 + 5\n",
    "print(result)  # Output: 15\n",
    "\n",
    "#Subtraction (-):\n",
    "result = 20 - 8\n",
    "print(result)  # Output: 12\n",
    "\n",
    "#Multiplication (*):\n",
    "result = 6 * 4\n",
    "print(result)  # Output: 24\n",
    "\n",
    "#Division (/):\n",
    "result = 15 / 3\n",
    "print(result)  # Output: 5.0\n",
    "\n",
    "\n",
    "#Exponentiation (**):\n",
    "result = 2 ** 3\n",
    "print(result)  # Output: 8\n"
   ]
  },
  {
   "cell_type": "code",
   "execution_count": 35,
   "id": "093168f5",
   "metadata": {},
   "outputs": [
    {
     "name": "stdout",
     "output_type": "stream",
     "text": [
      "Result of multiplication: 40\n",
      "Result of addition: 18\n"
     ]
    }
   ],
   "source": [
    "# Multiply and Add Numbers\n",
    "\n",
    "# Multiplication\n",
    "result_multiply = 5 * 8\n",
    "print(\"Result of multiplication:\", result_multiply)  # Output: 40\n",
    "\n",
    "# Addition\n",
    "result_addition = 12 + 6\n",
    "print(\"Result of addition:\", result_addition)  # Output: 18\n"
   ]
  },
  {
   "cell_type": "code",
   "execution_count": 34,
   "id": "1ce98326",
   "metadata": {},
   "outputs": [
    {
     "name": "stdout",
     "output_type": "stream",
     "text": [
      "120 minutes is equal to 2.0 hours.\n"
     ]
    }
   ],
   "source": [
    "# Convert Minutes to Hours\n",
    "\n",
    "# Input: Number of minutes\n",
    "minutes = 120\n",
    "\n",
    "# Conversion\n",
    "hours = minutes / 60\n",
    "\n",
    "# Output\n",
    "print(f\"{minutes} minutes is equal to {hours} hours.\")\n"
   ]
  },
  {
   "cell_type": "markdown",
   "id": "fd4053fb",
   "metadata": {},
   "source": [
    "__Objectives__\n",
    "\n",
    "This Jupyterlite Notebook aims to achieve the following objectives:\n",
    "\n",
    "1. **Introduction:** Provide an overview of the notebook's content.\n",
    "2. **Data Science Languages:** List and briefly describe key programming languages used in data science.\n",
    "3. **Data Science Libraries:** Enumerate essential libraries for data manipulation, analysis, and visualization.\n",
    "4. **Data Science Tools:** Present a table highlighting various tools utilized in the field of data science.\n",
    "5. **Arithmetic Expression Examples:** Introduce basic arithmetic operations commonly used in programming.\n",
    "6. **Code Demonstrations:** Showcase practical examples, including multiplication, addition, and time conversion.\n",
    "7. **Author Information:** Identify the author of the notebook.\n",
    "8. **GitHub Sharing:** Share the notebook through a public GitHub link for easy accessibility.\n",
    "\n"
   ]
  },
  {
   "cell_type": "markdown",
   "id": "617d31c5",
   "metadata": {},
   "source": [
    "## Author\n",
    "Ayesh Aljohani"
   ]
  }
 ],
 "metadata": {
  "kernelspec": {
   "display_name": "Python 3 (ipykernel)",
   "language": "python",
   "name": "python3"
  },
  "language_info": {
   "codemirror_mode": {
    "name": "ipython",
    "version": 3
   },
   "file_extension": ".py",
   "mimetype": "text/x-python",
   "name": "python",
   "nbconvert_exporter": "python",
   "pygments_lexer": "ipython3",
   "version": "3.11.5"
  }
 },
 "nbformat": 4,
 "nbformat_minor": 5
}
